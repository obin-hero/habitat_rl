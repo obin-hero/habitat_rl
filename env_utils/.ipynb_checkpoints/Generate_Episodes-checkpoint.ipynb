{
 "cells": [
  {
   "cell_type": "code",
   "execution_count": 2,
   "metadata": {},
   "outputs": [],
   "source": [
    "import json\n",
    "metadata = json.load(open('./gibson_metadata.json','rb'))"
   ]
  },
  {
   "cell_type": "code",
   "execution_count": 8,
   "metadata": {},
   "outputs": [],
   "source": [
    "import os\n",
    "import habitat"
   ]
  },
  {
   "cell_type": "code",
   "execution_count": 12,
   "metadata": {},
   "outputs": [],
   "source": [
    "habitat_api_path = os.path.join(os.path.dirname(habitat.__file__), '../')\n",
    "more_scenes = [scene[:-len('.glb')] for scene in os.listdir(os.path.join(habitat_api_path, 'data/scene_datasets/gibson_more')) if 'glb' in scene]#os.listdir()"
   ]
  },
  {
   "cell_type": "code",
   "execution_count": 55,
   "metadata": {},
   "outputs": [
    {
     "name": "stdout",
     "output_type": "stream",
     "text": [
      "84 13\n"
     ]
    }
   ],
   "source": [
    "all_scene_dict = {s['id']: s for s in metadata}\n",
    "train_scenes = []\n",
    "eval_scenes = []\n",
    "for scene in more_scenes:\n",
    "    if all_scene_dict[scene]['stats']['area'] > 500 and all_scene_dict[scene]['stats']['floor'] <= 3:\n",
    "        #selected_scenes.append(scene)\n",
    "        if all_scene_dict[scene]['split_full+'] == 'train':\n",
    "            train_scenes.append(scene)\n",
    "        else:\n",
    "            eval_scenes.append(scene)\n",
    "print(len(train_scenes), len(eval_scenes))"
   ]
  },
  {
   "cell_type": "code",
   "execution_count": 45,
   "metadata": {
    "scrolled": true
   },
   "outputs": [],
   "source": [
    "train_scenes = np.random.choice(selected_scenes, 75)"
   ]
  },
  {
   "cell_type": "code",
   "execution_count": 61,
   "metadata": {},
   "outputs": [],
   "source": [
    "large_house_metadata = {}\n",
    "for scene in selected_scenes:\n",
    "    large_house_metadata[scene] = all_scene_dict[scene]\n",
    "json.dump(large_house_metadata,open('./gibson_large_houses_metadata.json','w'))"
   ]
  },
  {
   "cell_type": "code",
   "execution_count": 47,
   "metadata": {},
   "outputs": [
    {
     "ename": "UnsupportedOperation",
     "evalue": "read",
     "output_type": "error",
     "traceback": [
      "\u001b[0;31m---------------------------------------------------------------------------\u001b[0m",
      "\u001b[0;31mUnsupportedOperation\u001b[0m                      Traceback (most recent call last)",
      "\u001b[0;32m<ipython-input-47-03640981016d>\u001b[0m in \u001b[0;36m<module>\u001b[0;34m()\u001b[0m\n\u001b[1;32m      4\u001b[0m \u001b[0;32mimport\u001b[0m \u001b[0mjson\u001b[0m\u001b[0;34m\u001b[0m\u001b[0;34m\u001b[0m\u001b[0m\n\u001b[1;32m      5\u001b[0m \u001b[0;32mfrom\u001b[0m \u001b[0mtqdm\u001b[0m \u001b[0;32mimport\u001b[0m \u001b[0mtqdm_notebook\u001b[0m \u001b[0;32mas\u001b[0m \u001b[0mtqdm\u001b[0m\u001b[0;34m\u001b[0m\u001b[0;34m\u001b[0m\u001b[0m\n\u001b[0;32m----> 6\u001b[0;31m \u001b[0mmetadata\u001b[0m \u001b[0;34m=\u001b[0m \u001b[0mjson\u001b[0m\u001b[0;34m.\u001b[0m\u001b[0mload\u001b[0m\u001b[0;34m(\u001b[0m\u001b[0mopen\u001b[0m\u001b[0;34m(\u001b[0m\u001b[0;34m'./large_houses_gibson_metadata.json'\u001b[0m\u001b[0;34m,\u001b[0m\u001b[0;34m'wb'\u001b[0m\u001b[0;34m)\u001b[0m\u001b[0;34m)\u001b[0m\u001b[0;34m\u001b[0m\u001b[0;34m\u001b[0m\u001b[0m\n\u001b[0m",
      "\u001b[0;32m/usr/lib/python3.6/json/__init__.py\u001b[0m in \u001b[0;36mload\u001b[0;34m(fp, cls, object_hook, parse_float, parse_int, parse_constant, object_pairs_hook, **kw)\u001b[0m\n\u001b[1;32m    294\u001b[0m \u001b[0;34m\u001b[0m\u001b[0m\n\u001b[1;32m    295\u001b[0m     \"\"\"\n\u001b[0;32m--> 296\u001b[0;31m     return loads(fp.read(),\n\u001b[0m\u001b[1;32m    297\u001b[0m         \u001b[0mcls\u001b[0m\u001b[0;34m=\u001b[0m\u001b[0mcls\u001b[0m\u001b[0;34m,\u001b[0m \u001b[0mobject_hook\u001b[0m\u001b[0;34m=\u001b[0m\u001b[0mobject_hook\u001b[0m\u001b[0;34m,\u001b[0m\u001b[0;34m\u001b[0m\u001b[0;34m\u001b[0m\u001b[0m\n\u001b[1;32m    298\u001b[0m         \u001b[0mparse_float\u001b[0m\u001b[0;34m=\u001b[0m\u001b[0mparse_float\u001b[0m\u001b[0;34m,\u001b[0m \u001b[0mparse_int\u001b[0m\u001b[0;34m=\u001b[0m\u001b[0mparse_int\u001b[0m\u001b[0;34m,\u001b[0m\u001b[0;34m\u001b[0m\u001b[0;34m\u001b[0m\u001b[0m\n",
      "\u001b[0;31mUnsupportedOperation\u001b[0m: read"
     ]
    }
   ],
   "source": [
    "import os\n",
    "os.environ['GLOG_minloglevel'] = \"2\"\n",
    "os.environ['MAGNUM_LOG'] = 'quiet'\n",
    "import json\n",
    "from tqdm import tqdm_notebook as tqdm\n",
    "metadata = json.load(open('./large_houses_gibson_metadata.json','wb'))"
   ]
  },
  {
   "cell_type": "code",
   "execution_count": 2,
   "metadata": {},
   "outputs": [],
   "source": [
    "import numpy as np\n",
    "\n",
    "## Generate episodes\n",
    "from habitat.config.default import get_config\n",
    "from habitat.sims import make_sim\n",
    "from habitat.utils.visualizations import maps\n",
    "import habitat\n",
    "import quaternion as q"
   ]
  },
  {
   "cell_type": "code",
   "execution_count": 3,
   "metadata": {
    "scrolled": true
   },
   "outputs": [
    {
     "data": {
      "text/plain": [
       "{'Bettendorf': {'id': 'Bettendorf',\n",
       "  'name': 'model-289',\n",
       "  'split_full': 'train',\n",
       "  'split_full+': 'train',\n",
       "  'split_medium': 'none',\n",
       "  'split_tiny': 'none',\n",
       "  'stats': {'area': 4371.903,\n",
       "   'floor': 6,\n",
       "   'navigation_complexity': 3.36,\n",
       "   'room': 21,\n",
       "   'ssa': 0.493}},\n",
       " 'Bushong': {'id': 'Bushong',\n",
       "  'name': 'model-373',\n",
       "  'split_full': 'none',\n",
       "  'split_full+': 'train',\n",
       "  'split_medium': 'none',\n",
       "  'split_tiny': 'none',\n",
       "  'stats': {'area': 3130.477,\n",
       "   'floor': 2,\n",
       "   'navigation_complexity': 6.76,\n",
       "   'room': 57,\n",
       "   'ssa': 2.062}},\n",
       " 'Chesaning': {'id': 'Chesaning',\n",
       "  'name': 'model-246',\n",
       "  'split_full': 'none',\n",
       "  'split_full+': 'train',\n",
       "  'split_medium': 'none',\n",
       "  'split_tiny': 'none',\n",
       "  'stats': {'area': 3351.796,\n",
       "   'floor': 3,\n",
       "   'navigation_complexity': 5.092,\n",
       "   'room': 20,\n",
       "   'ssa': 0.498}},\n",
       " 'Crugers': {'id': 'Crugers',\n",
       "  'name': 'model-453',\n",
       "  'split_full': 'none',\n",
       "  'split_full+': 'train',\n",
       "  'split_medium': 'none',\n",
       "  'split_tiny': 'none',\n",
       "  'stats': {'area': 2019.115,\n",
       "   'floor': 4,\n",
       "   'navigation_complexity': 2.385,\n",
       "   'room': 36,\n",
       "   'ssa': 1.297}},\n",
       " 'Grainola': {'id': 'Grainola',\n",
       "  'name': 'model-149',\n",
       "  'split_full': 'none',\n",
       "  'split_full+': 'train',\n",
       "  'split_medium': 'none',\n",
       "  'split_tiny': 'none',\n",
       "  'stats': {'area': 2363.378,\n",
       "   'floor': 3,\n",
       "   'navigation_complexity': 23.015,\n",
       "   'room': 39,\n",
       "   'ssa': 1.339}},\n",
       " 'Lacon': {'id': 'Lacon',\n",
       "  'name': 'model-138',\n",
       "  'split_full': 'none',\n",
       "  'split_full+': 'train',\n",
       "  'split_medium': 'none',\n",
       "  'split_tiny': 'none',\n",
       "  'stats': {'area': 3121.66,\n",
       "   'floor': 2,\n",
       "   'navigation_complexity': 6.679,\n",
       "   'room': 42,\n",
       "   'ssa': 1.827}},\n",
       " 'Lincolnwood': {'id': 'Lincolnwood',\n",
       "  'name': 'model-509',\n",
       "  'split_full': 'none',\n",
       "  'split_full+': 'train',\n",
       "  'split_medium': 'none',\n",
       "  'split_tiny': 'none',\n",
       "  'stats': {'area': 6298.848,\n",
       "   'floor': 4,\n",
       "   'navigation_complexity': 17.889,\n",
       "   'room': 110,\n",
       "   'ssa': 1.223}},\n",
       " 'Moark': {'id': 'Moark',\n",
       "  'name': 'model-280',\n",
       "  'split_full': 'train',\n",
       "  'split_full+': 'train',\n",
       "  'split_medium': 'none',\n",
       "  'split_tiny': 'none',\n",
       "  'stats': {'area': 2287.132,\n",
       "   'floor': 5,\n",
       "   'navigation_complexity': 8.482,\n",
       "   'room': 31,\n",
       "   'ssa': 1.946}},\n",
       " 'Mogadore': {'id': 'Mogadore',\n",
       "  'name': 'model-407',\n",
       "  'split_full': 'train',\n",
       "  'split_full+': 'train',\n",
       "  'split_medium': 'none',\n",
       "  'split_tiny': 'none',\n",
       "  'stats': {'area': 2363.158,\n",
       "   'floor': 10,\n",
       "   'navigation_complexity': 4.48,\n",
       "   'room': 30,\n",
       "   'ssa': 1.342}},\n",
       " 'Moonachie': {'id': 'Moonachie',\n",
       "  'name': 'model-196',\n",
       "  'split_full': 'none',\n",
       "  'split_full+': 'train',\n",
       "  'split_medium': 'none',\n",
       "  'split_tiny': 'none',\n",
       "  'stats': {'area': 2697.304,\n",
       "   'floor': 3,\n",
       "   'navigation_complexity': 2.112,\n",
       "   'room': 29,\n",
       "   'ssa': 1.16}},\n",
       " 'Sargents': {'id': 'Sargents',\n",
       "  'name': 'model-490',\n",
       "  'split_full': 'none',\n",
       "  'split_full+': 'val',\n",
       "  'split_medium': 'none',\n",
       "  'split_tiny': 'none',\n",
       "  'stats': {'area': 5930.231,\n",
       "   'floor': 3,\n",
       "   'navigation_complexity': 18.039,\n",
       "   'room': 76,\n",
       "   'ssa': 0.885}},\n",
       " 'Seatonville': {'id': 'Seatonville',\n",
       "  'name': 'model-475',\n",
       "  'split_full': 'train',\n",
       "  'split_full+': 'train',\n",
       "  'split_medium': 'none',\n",
       "  'split_tiny': 'none',\n",
       "  'stats': {'area': 2832.57,\n",
       "   'floor': 6,\n",
       "   'navigation_complexity': 7.291,\n",
       "   'room': 3,\n",
       "   'ssa': 1.297}},\n",
       " 'Sherrill': {'id': 'Sherrill',\n",
       "  'name': 'model-553',\n",
       "  'split_full': 'train',\n",
       "  'split_full+': 'train',\n",
       "  'split_medium': 'none',\n",
       "  'split_tiny': 'none',\n",
       "  'stats': {'area': 3081.432,\n",
       "   'floor': 4,\n",
       "   'navigation_complexity': 15.187,\n",
       "   'room': 46,\n",
       "   'ssa': 1.074}},\n",
       " 'Stigler': {'id': 'Stigler',\n",
       "  'name': 'model-45',\n",
       "  'split_full': 'none',\n",
       "  'split_full+': 'train',\n",
       "  'split_medium': 'none',\n",
       "  'split_tiny': 'none',\n",
       "  'stats': {'area': 3134.479,\n",
       "   'floor': 2,\n",
       "   'navigation_complexity': 16.449,\n",
       "   'room': 37,\n",
       "   'ssa': 1.847}}}"
      ]
     },
     "execution_count": 3,
     "metadata": {},
     "output_type": "execute_result"
    }
   ],
   "source": [
    "metadata"
   ]
  },
  {
   "cell_type": "code",
   "execution_count": 4,
   "metadata": {
    "scrolled": false
   },
   "outputs": [
    {
     "data": {
      "application/vnd.jupyter.widget-view+json": {
       "model_id": "4eefa90b16844b9da956d40109b6fa35",
       "version_major": 2,
       "version_minor": 0
      },
      "text/plain": [
       "HBox(children=(IntProgress(value=0, max=14), HTML(value='')))"
      ]
     },
     "metadata": {},
     "output_type": "display_data"
    },
    {
     "name": "stderr",
     "output_type": "stream",
     "text": [
      "2020-10-27 17:51:34,103 initializing sim Sim-v0\n"
     ]
    },
    {
     "data": {
      "application/vnd.jupyter.widget-view+json": {
       "model_id": "c811110b4d0d4042a0ab8abf1fc96193",
       "version_major": 2,
       "version_minor": 0
      },
      "text/plain": [
       "HBox(children=(IntProgress(value=0, max=50), HTML(value='')))"
      ]
     },
     "metadata": {},
     "output_type": "display_data"
    },
    {
     "name": "stderr",
     "output_type": "stream",
     "text": [
      "2020-10-27 17:51:38,260 initializing sim Sim-v0\n"
     ]
    },
    {
     "name": "stdout",
     "output_type": "stream",
     "text": [
      "large_episodes/1121/Moonachie_hard.txt  done\n"
     ]
    },
    {
     "data": {
      "application/vnd.jupyter.widget-view+json": {
       "model_id": "b28d8ebf71e7426b9d9e7a2c41c865bf",
       "version_major": 2,
       "version_minor": 0
      },
      "text/plain": [
       "HBox(children=(IntProgress(value=0, max=50), HTML(value='')))"
      ]
     },
     "metadata": {},
     "output_type": "display_data"
    },
    {
     "name": "stderr",
     "output_type": "stream",
     "text": [
      "2020-10-27 17:51:41,492 initializing sim Sim-v0\n"
     ]
    },
    {
     "name": "stdout",
     "output_type": "stream",
     "text": [
      "large_episodes/1121/Moark_hard.txt  done\n"
     ]
    },
    {
     "data": {
      "application/vnd.jupyter.widget-view+json": {
       "model_id": "026f7065b52148ec979307ab3b6d427f",
       "version_major": 2,
       "version_minor": 0
      },
      "text/plain": [
       "HBox(children=(IntProgress(value=0, max=50), HTML(value='')))"
      ]
     },
     "metadata": {},
     "output_type": "display_data"
    },
    {
     "name": "stderr",
     "output_type": "stream",
     "text": [
      "2020-10-27 17:51:46,322 initializing sim Sim-v0\n"
     ]
    },
    {
     "name": "stdout",
     "output_type": "stream",
     "text": [
      "large_episodes/1121/Lacon_hard.txt  done\n"
     ]
    },
    {
     "data": {
      "application/vnd.jupyter.widget-view+json": {
       "model_id": "86362cfd73d84fa19e1e1bd396d2f51c",
       "version_major": 2,
       "version_minor": 0
      },
      "text/plain": [
       "HBox(children=(IntProgress(value=0, max=50), HTML(value='')))"
      ]
     },
     "metadata": {},
     "output_type": "display_data"
    },
    {
     "name": "stderr",
     "output_type": "stream",
     "text": [
      "2020-10-27 17:51:49,375 initializing sim Sim-v0\n"
     ]
    },
    {
     "name": "stdout",
     "output_type": "stream",
     "text": [
      "large_episodes/1121/Sherrill_hard.txt  done\n"
     ]
    },
    {
     "data": {
      "application/vnd.jupyter.widget-view+json": {
       "model_id": "fac03b2fd5ca4f1e85a07f342253edeb",
       "version_major": 2,
       "version_minor": 0
      },
      "text/plain": [
       "HBox(children=(IntProgress(value=0, max=50), HTML(value='')))"
      ]
     },
     "metadata": {},
     "output_type": "display_data"
    },
    {
     "name": "stderr",
     "output_type": "stream",
     "text": [
      "2020-10-27 17:51:53,411 initializing sim Sim-v0\n"
     ]
    },
    {
     "name": "stdout",
     "output_type": "stream",
     "text": [
      "large_episodes/1121/Sargents_hard.txt  done\n"
     ]
    },
    {
     "data": {
      "application/vnd.jupyter.widget-view+json": {
       "model_id": "ab186d85759a4505b30dcd86d985519e",
       "version_major": 2,
       "version_minor": 0
      },
      "text/plain": [
       "HBox(children=(IntProgress(value=0, max=50), HTML(value='')))"
      ]
     },
     "metadata": {},
     "output_type": "display_data"
    },
    {
     "name": "stderr",
     "output_type": "stream",
     "text": [
      "2020-10-27 17:51:58,568 initializing sim Sim-v0\n"
     ]
    },
    {
     "name": "stdout",
     "output_type": "stream",
     "text": [
      "large_episodes/1121/Chesaning_hard.txt  done\n"
     ]
    },
    {
     "data": {
      "application/vnd.jupyter.widget-view+json": {
       "model_id": "857174cc0f684913923e0da96f86e17b",
       "version_major": 2,
       "version_minor": 0
      },
      "text/plain": [
       "HBox(children=(IntProgress(value=0, max=50), HTML(value='')))"
      ]
     },
     "metadata": {},
     "output_type": "display_data"
    },
    {
     "name": "stderr",
     "output_type": "stream",
     "text": [
      "2020-10-27 17:52:01,654 initializing sim Sim-v0\n"
     ]
    },
    {
     "name": "stdout",
     "output_type": "stream",
     "text": [
      "large_episodes/1121/Seatonville_hard.txt  done\n"
     ]
    },
    {
     "data": {
      "application/vnd.jupyter.widget-view+json": {
       "model_id": "bfcb8e97cbb24f5389ba8c0a2dabe757",
       "version_major": 2,
       "version_minor": 0
      },
      "text/plain": [
       "HBox(children=(IntProgress(value=0, max=50), HTML(value='')))"
      ]
     },
     "metadata": {},
     "output_type": "display_data"
    },
    {
     "name": "stderr",
     "output_type": "stream",
     "text": [
      "2020-10-27 17:52:05,272 initializing sim Sim-v0\n"
     ]
    },
    {
     "name": "stdout",
     "output_type": "stream",
     "text": [
      "large_episodes/1121/Stigler_hard.txt  done\n"
     ]
    },
    {
     "data": {
      "application/vnd.jupyter.widget-view+json": {
       "model_id": "30eb4513782142bf84cc22c5129fd69b",
       "version_major": 2,
       "version_minor": 0
      },
      "text/plain": [
       "HBox(children=(IntProgress(value=0, max=50), HTML(value='')))"
      ]
     },
     "metadata": {},
     "output_type": "display_data"
    },
    {
     "name": "stderr",
     "output_type": "stream",
     "text": [
      "2020-10-27 17:52:12,030 initializing sim Sim-v0\n"
     ]
    },
    {
     "name": "stdout",
     "output_type": "stream",
     "text": [
      "large_episodes/1121/Lincolnwood_hard.txt  done\n"
     ]
    },
    {
     "data": {
      "application/vnd.jupyter.widget-view+json": {
       "model_id": "1760daff1cf046bfaee084fb9d1ec7f8",
       "version_major": 2,
       "version_minor": 0
      },
      "text/plain": [
       "HBox(children=(IntProgress(value=0, max=50), HTML(value='')))"
      ]
     },
     "metadata": {},
     "output_type": "display_data"
    },
    {
     "name": "stderr",
     "output_type": "stream",
     "text": [
      "2020-10-27 17:52:15,154 initializing sim Sim-v0\n"
     ]
    },
    {
     "name": "stdout",
     "output_type": "stream",
     "text": [
      "large_episodes/1121/Grainola_hard.txt  done\n"
     ]
    },
    {
     "data": {
      "application/vnd.jupyter.widget-view+json": {
       "model_id": "9444403069494cfda86041fd5c254b61",
       "version_major": 2,
       "version_minor": 0
      },
      "text/plain": [
       "HBox(children=(IntProgress(value=0, max=50), HTML(value='')))"
      ]
     },
     "metadata": {},
     "output_type": "display_data"
    },
    {
     "name": "stderr",
     "output_type": "stream",
     "text": [
      "2020-10-27 17:52:18,529 initializing sim Sim-v0\n"
     ]
    },
    {
     "name": "stdout",
     "output_type": "stream",
     "text": [
      "large_episodes/1121/Crugers_hard.txt  done\n"
     ]
    },
    {
     "data": {
      "application/vnd.jupyter.widget-view+json": {
       "model_id": "154d52660b5947ffb7daf22d89eb1a38",
       "version_major": 2,
       "version_minor": 0
      },
      "text/plain": [
       "HBox(children=(IntProgress(value=0, max=50), HTML(value='')))"
      ]
     },
     "metadata": {},
     "output_type": "display_data"
    },
    {
     "name": "stderr",
     "output_type": "stream",
     "text": [
      "2020-10-27 17:52:22,990 initializing sim Sim-v0\n"
     ]
    },
    {
     "name": "stdout",
     "output_type": "stream",
     "text": [
      "large_episodes/1121/Bushong_hard.txt  done\n"
     ]
    },
    {
     "data": {
      "application/vnd.jupyter.widget-view+json": {
       "model_id": "265b978cb9754fbd8bf109658318f170",
       "version_major": 2,
       "version_minor": 0
      },
      "text/plain": [
       "HBox(children=(IntProgress(value=0, max=50), HTML(value='')))"
      ]
     },
     "metadata": {},
     "output_type": "display_data"
    },
    {
     "name": "stderr",
     "output_type": "stream",
     "text": [
      "2020-10-27 17:52:26,978 initializing sim Sim-v0\n"
     ]
    },
    {
     "name": "stdout",
     "output_type": "stream",
     "text": [
      "large_episodes/1121/Mogadore_hard.txt  done\n"
     ]
    },
    {
     "data": {
      "application/vnd.jupyter.widget-view+json": {
       "model_id": "733c5e3030074bc69ea0454a88cf0954",
       "version_major": 2,
       "version_minor": 0
      },
      "text/plain": [
       "HBox(children=(IntProgress(value=0, max=50), HTML(value='')))"
      ]
     },
     "metadata": {},
     "output_type": "display_data"
    },
    {
     "name": "stdout",
     "output_type": "stream",
     "text": [
      "large_episodes/1121/Bettendorf_hard.txt  done\n",
      "\n"
     ]
    },
    {
     "data": {
      "application/vnd.jupyter.widget-view+json": {
       "model_id": "ed8a912e295c46fa860b995ecab8f791",
       "version_major": 2,
       "version_minor": 0
      },
      "text/plain": [
       "HBox(children=(IntProgress(value=0, max=14), HTML(value='')))"
      ]
     },
     "metadata": {},
     "output_type": "display_data"
    },
    {
     "name": "stderr",
     "output_type": "stream",
     "text": [
      "2020-10-27 17:52:30,381 initializing sim Sim-v0\n"
     ]
    },
    {
     "data": {
      "application/vnd.jupyter.widget-view+json": {
       "model_id": "2ef799af5b38463797fdf0be6e0490ed",
       "version_major": 2,
       "version_minor": 0
      },
      "text/plain": [
       "HBox(children=(IntProgress(value=0, max=50), HTML(value='')))"
      ]
     },
     "metadata": {},
     "output_type": "display_data"
    },
    {
     "name": "stderr",
     "output_type": "stream",
     "text": [
      "2020-10-27 17:52:34,278 initializing sim Sim-v0\n"
     ]
    },
    {
     "name": "stdout",
     "output_type": "stream",
     "text": [
      "large_episodes/1110/Moonachie_hard.txt  done\n"
     ]
    },
    {
     "data": {
      "application/vnd.jupyter.widget-view+json": {
       "model_id": "a95f11a3bf8242c4ac3d6bcee7f7e793",
       "version_major": 2,
       "version_minor": 0
      },
      "text/plain": [
       "HBox(children=(IntProgress(value=0, max=50), HTML(value='')))"
      ]
     },
     "metadata": {},
     "output_type": "display_data"
    },
    {
     "name": "stderr",
     "output_type": "stream",
     "text": [
      "2020-10-27 17:52:37,406 initializing sim Sim-v0\n"
     ]
    },
    {
     "name": "stdout",
     "output_type": "stream",
     "text": [
      "large_episodes/1110/Moark_hard.txt  done\n"
     ]
    },
    {
     "data": {
      "application/vnd.jupyter.widget-view+json": {
       "model_id": "ea9846d9006d40f6b467988523862824",
       "version_major": 2,
       "version_minor": 0
      },
      "text/plain": [
       "HBox(children=(IntProgress(value=0, max=50), HTML(value='')))"
      ]
     },
     "metadata": {},
     "output_type": "display_data"
    },
    {
     "name": "stderr",
     "output_type": "stream",
     "text": [
      "2020-10-27 17:52:42,401 initializing sim Sim-v0\n"
     ]
    },
    {
     "name": "stdout",
     "output_type": "stream",
     "text": [
      "large_episodes/1110/Lacon_hard.txt  done\n"
     ]
    },
    {
     "data": {
      "application/vnd.jupyter.widget-view+json": {
       "model_id": "7efe0ff6b9de4659955fbf262dd0dd82",
       "version_major": 2,
       "version_minor": 0
      },
      "text/plain": [
       "HBox(children=(IntProgress(value=0, max=50), HTML(value='')))"
      ]
     },
     "metadata": {},
     "output_type": "display_data"
    },
    {
     "name": "stderr",
     "output_type": "stream",
     "text": [
      "2020-10-27 17:52:45,615 initializing sim Sim-v0\n"
     ]
    },
    {
     "name": "stdout",
     "output_type": "stream",
     "text": [
      "large_episodes/1110/Sherrill_hard.txt  done\n"
     ]
    },
    {
     "data": {
      "application/vnd.jupyter.widget-view+json": {
       "model_id": "46a27e33eef7469097c82a41dbda344c",
       "version_major": 2,
       "version_minor": 0
      },
      "text/plain": [
       "HBox(children=(IntProgress(value=0, max=50), HTML(value='')))"
      ]
     },
     "metadata": {},
     "output_type": "display_data"
    },
    {
     "name": "stderr",
     "output_type": "stream",
     "text": [
      "2020-10-27 17:52:49,624 initializing sim Sim-v0\n"
     ]
    },
    {
     "name": "stdout",
     "output_type": "stream",
     "text": [
      "large_episodes/1110/Sargents_hard.txt  done\n"
     ]
    },
    {
     "data": {
      "application/vnd.jupyter.widget-view+json": {
       "model_id": "1ca2923dd3ea43c0ace1ce84a70801a3",
       "version_major": 2,
       "version_minor": 0
      },
      "text/plain": [
       "HBox(children=(IntProgress(value=0, max=50), HTML(value='')))"
      ]
     },
     "metadata": {},
     "output_type": "display_data"
    },
    {
     "name": "stderr",
     "output_type": "stream",
     "text": [
      "2020-10-27 17:52:54,567 initializing sim Sim-v0\n"
     ]
    },
    {
     "name": "stdout",
     "output_type": "stream",
     "text": [
      "large_episodes/1110/Chesaning_hard.txt  done\n"
     ]
    },
    {
     "data": {
      "application/vnd.jupyter.widget-view+json": {
       "model_id": "d2911134083644fab9420d2333aa6c6c",
       "version_major": 2,
       "version_minor": 0
      },
      "text/plain": [
       "HBox(children=(IntProgress(value=0, max=50), HTML(value='')))"
      ]
     },
     "metadata": {},
     "output_type": "display_data"
    },
    {
     "name": "stderr",
     "output_type": "stream",
     "text": [
      "2020-10-27 17:52:57,657 initializing sim Sim-v0\n"
     ]
    },
    {
     "name": "stdout",
     "output_type": "stream",
     "text": [
      "large_episodes/1110/Seatonville_hard.txt  done\n"
     ]
    },
    {
     "data": {
      "application/vnd.jupyter.widget-view+json": {
       "model_id": "12fc31808470431cb5262a2f804be29b",
       "version_major": 2,
       "version_minor": 0
      },
      "text/plain": [
       "HBox(children=(IntProgress(value=0, max=50), HTML(value='')))"
      ]
     },
     "metadata": {},
     "output_type": "display_data"
    },
    {
     "name": "stderr",
     "output_type": "stream",
     "text": [
      "2020-10-27 17:53:01,376 initializing sim Sim-v0\n"
     ]
    },
    {
     "name": "stdout",
     "output_type": "stream",
     "text": [
      "large_episodes/1110/Stigler_hard.txt  done\n"
     ]
    },
    {
     "data": {
      "application/vnd.jupyter.widget-view+json": {
       "model_id": "df7929f211dd4c8c8c7622d4bb197448",
       "version_major": 2,
       "version_minor": 0
      },
      "text/plain": [
       "HBox(children=(IntProgress(value=0, max=50), HTML(value='')))"
      ]
     },
     "metadata": {},
     "output_type": "display_data"
    },
    {
     "name": "stderr",
     "output_type": "stream",
     "text": [
      "2020-10-27 17:53:07,711 initializing sim Sim-v0\n"
     ]
    },
    {
     "name": "stdout",
     "output_type": "stream",
     "text": [
      "large_episodes/1110/Lincolnwood_hard.txt  done\n"
     ]
    },
    {
     "data": {
      "application/vnd.jupyter.widget-view+json": {
       "model_id": "d126c9eb678b44a59c517a4378f0329f",
       "version_major": 2,
       "version_minor": 0
      },
      "text/plain": [
       "HBox(children=(IntProgress(value=0, max=50), HTML(value='')))"
      ]
     },
     "metadata": {},
     "output_type": "display_data"
    },
    {
     "name": "stderr",
     "output_type": "stream",
     "text": [
      "2020-10-27 17:53:11,023 initializing sim Sim-v0\n"
     ]
    },
    {
     "name": "stdout",
     "output_type": "stream",
     "text": [
      "large_episodes/1110/Grainola_hard.txt  done\n"
     ]
    },
    {
     "data": {
      "application/vnd.jupyter.widget-view+json": {
       "model_id": "3ec58b01b2b94d67add6a7f193ad259f",
       "version_major": 2,
       "version_minor": 0
      },
      "text/plain": [
       "HBox(children=(IntProgress(value=0, max=50), HTML(value='')))"
      ]
     },
     "metadata": {},
     "output_type": "display_data"
    },
    {
     "name": "stderr",
     "output_type": "stream",
     "text": [
      "2020-10-27 17:53:14,486 initializing sim Sim-v0\n"
     ]
    },
    {
     "name": "stdout",
     "output_type": "stream",
     "text": [
      "large_episodes/1110/Crugers_hard.txt  done\n"
     ]
    },
    {
     "data": {
      "application/vnd.jupyter.widget-view+json": {
       "model_id": "5e76fb6eab404ddc9bed8f86b2c7f390",
       "version_major": 2,
       "version_minor": 0
      },
      "text/plain": [
       "HBox(children=(IntProgress(value=0, max=50), HTML(value='')))"
      ]
     },
     "metadata": {},
     "output_type": "display_data"
    },
    {
     "name": "stderr",
     "output_type": "stream",
     "text": [
      "2020-10-27 17:53:19,062 initializing sim Sim-v0\n"
     ]
    },
    {
     "name": "stdout",
     "output_type": "stream",
     "text": [
      "large_episodes/1110/Bushong_hard.txt  done\n"
     ]
    },
    {
     "data": {
      "application/vnd.jupyter.widget-view+json": {
       "model_id": "6509779583684c768473a2e79e1599ad",
       "version_major": 2,
       "version_minor": 0
      },
      "text/plain": [
       "HBox(children=(IntProgress(value=0, max=50), HTML(value='')))"
      ]
     },
     "metadata": {},
     "output_type": "display_data"
    },
    {
     "name": "stderr",
     "output_type": "stream",
     "text": [
      "2020-10-27 17:53:22,571 initializing sim Sim-v0\n"
     ]
    },
    {
     "name": "stdout",
     "output_type": "stream",
     "text": [
      "large_episodes/1110/Mogadore_hard.txt  done\n"
     ]
    },
    {
     "data": {
      "application/vnd.jupyter.widget-view+json": {
       "model_id": "78d182b508a0442eb5cb8678d8af7a0f",
       "version_major": 2,
       "version_minor": 0
      },
      "text/plain": [
       "HBox(children=(IntProgress(value=0, max=50), HTML(value='')))"
      ]
     },
     "metadata": {},
     "output_type": "display_data"
    },
    {
     "name": "stdout",
     "output_type": "stream",
     "text": [
      "large_episodes/1110/Bettendorf_hard.txt  done\n",
      "\n"
     ]
    },
    {
     "data": {
      "application/vnd.jupyter.widget-view+json": {
       "model_id": "61028a62fcff4e77a5bd9d9e7105c555",
       "version_major": 2,
       "version_minor": 0
      },
      "text/plain": [
       "HBox(children=(IntProgress(value=0, max=14), HTML(value='')))"
      ]
     },
     "metadata": {},
     "output_type": "display_data"
    },
    {
     "name": "stderr",
     "output_type": "stream",
     "text": [
      "2020-10-27 17:53:25,745 initializing sim Sim-v0\n"
     ]
    },
    {
     "data": {
      "application/vnd.jupyter.widget-view+json": {
       "model_id": "3d326aa41e8c45d09b00a604f2b3e5f5",
       "version_major": 2,
       "version_minor": 0
      },
      "text/plain": [
       "HBox(children=(IntProgress(value=0, max=50), HTML(value='')))"
      ]
     },
     "metadata": {},
     "output_type": "display_data"
    },
    {
     "name": "stderr",
     "output_type": "stream",
     "text": [
      "2020-10-27 17:53:29,711 initializing sim Sim-v0\n"
     ]
    },
    {
     "name": "stdout",
     "output_type": "stream",
     "text": [
      "large_episodes/1994/Moonachie_hard.txt  done\n"
     ]
    },
    {
     "data": {
      "application/vnd.jupyter.widget-view+json": {
       "model_id": "94cc67463aea4f39894fbd84e53a8799",
       "version_major": 2,
       "version_minor": 0
      },
      "text/plain": [
       "HBox(children=(IntProgress(value=0, max=50), HTML(value='')))"
      ]
     },
     "metadata": {},
     "output_type": "display_data"
    },
    {
     "name": "stderr",
     "output_type": "stream",
     "text": [
      "2020-10-27 17:53:32,844 initializing sim Sim-v0\n"
     ]
    },
    {
     "name": "stdout",
     "output_type": "stream",
     "text": [
      "large_episodes/1994/Moark_hard.txt  done\n"
     ]
    },
    {
     "data": {
      "application/vnd.jupyter.widget-view+json": {
       "model_id": "750cf64ab7054310a9ec1cc044f41e10",
       "version_major": 2,
       "version_minor": 0
      },
      "text/plain": [
       "HBox(children=(IntProgress(value=0, max=50), HTML(value='')))"
      ]
     },
     "metadata": {},
     "output_type": "display_data"
    },
    {
     "name": "stderr",
     "output_type": "stream",
     "text": [
      "2020-10-27 17:53:37,699 initializing sim Sim-v0\n"
     ]
    },
    {
     "name": "stdout",
     "output_type": "stream",
     "text": [
      "large_episodes/1994/Lacon_hard.txt  done\n"
     ]
    },
    {
     "data": {
      "application/vnd.jupyter.widget-view+json": {
       "model_id": "b5e9b1b938f94196845800e7dd28903a",
       "version_major": 2,
       "version_minor": 0
      },
      "text/plain": [
       "HBox(children=(IntProgress(value=0, max=50), HTML(value='')))"
      ]
     },
     "metadata": {},
     "output_type": "display_data"
    },
    {
     "name": "stderr",
     "output_type": "stream",
     "text": [
      "2020-10-27 17:53:40,764 initializing sim Sim-v0\n"
     ]
    },
    {
     "name": "stdout",
     "output_type": "stream",
     "text": [
      "large_episodes/1994/Sherrill_hard.txt  done\n"
     ]
    },
    {
     "data": {
      "application/vnd.jupyter.widget-view+json": {
       "model_id": "b0d740e722394a248ed3081e359acb93",
       "version_major": 2,
       "version_minor": 0
      },
      "text/plain": [
       "HBox(children=(IntProgress(value=0, max=50), HTML(value='')))"
      ]
     },
     "metadata": {},
     "output_type": "display_data"
    },
    {
     "name": "stderr",
     "output_type": "stream",
     "text": [
      "2020-10-27 17:53:44,637 initializing sim Sim-v0\n"
     ]
    },
    {
     "name": "stdout",
     "output_type": "stream",
     "text": [
      "large_episodes/1994/Sargents_hard.txt  done\n"
     ]
    },
    {
     "data": {
      "application/vnd.jupyter.widget-view+json": {
       "model_id": "da6b9f4fc86440acb9cad795a0fbf7df",
       "version_major": 2,
       "version_minor": 0
      },
      "text/plain": [
       "HBox(children=(IntProgress(value=0, max=50), HTML(value='')))"
      ]
     },
     "metadata": {},
     "output_type": "display_data"
    },
    {
     "name": "stderr",
     "output_type": "stream",
     "text": [
      "2020-10-27 17:53:49,774 initializing sim Sim-v0\n"
     ]
    },
    {
     "name": "stdout",
     "output_type": "stream",
     "text": [
      "large_episodes/1994/Chesaning_hard.txt  done\n"
     ]
    },
    {
     "data": {
      "application/vnd.jupyter.widget-view+json": {
       "model_id": "e29da4d46ee942e6949a60748e79afb0",
       "version_major": 2,
       "version_minor": 0
      },
      "text/plain": [
       "HBox(children=(IntProgress(value=0, max=50), HTML(value='')))"
      ]
     },
     "metadata": {},
     "output_type": "display_data"
    },
    {
     "name": "stderr",
     "output_type": "stream",
     "text": [
      "2020-10-27 17:53:52,861 initializing sim Sim-v0\n"
     ]
    },
    {
     "name": "stdout",
     "output_type": "stream",
     "text": [
      "large_episodes/1994/Seatonville_hard.txt  done\n"
     ]
    },
    {
     "data": {
      "application/vnd.jupyter.widget-view+json": {
       "model_id": "576d7607711f4bc9a039c0f2b569b01e",
       "version_major": 2,
       "version_minor": 0
      },
      "text/plain": [
       "HBox(children=(IntProgress(value=0, max=50), HTML(value='')))"
      ]
     },
     "metadata": {},
     "output_type": "display_data"
    },
    {
     "name": "stderr",
     "output_type": "stream",
     "text": [
      "2020-10-27 17:53:56,795 initializing sim Sim-v0\n"
     ]
    },
    {
     "name": "stdout",
     "output_type": "stream",
     "text": [
      "large_episodes/1994/Stigler_hard.txt  done\n"
     ]
    },
    {
     "data": {
      "application/vnd.jupyter.widget-view+json": {
       "model_id": "5f008a2913674d2ca83aa2df7bd57924",
       "version_major": 2,
       "version_minor": 0
      },
      "text/plain": [
       "HBox(children=(IntProgress(value=0, max=50), HTML(value='')))"
      ]
     },
     "metadata": {},
     "output_type": "display_data"
    },
    {
     "name": "stderr",
     "output_type": "stream",
     "text": [
      "2020-10-27 17:54:03,408 initializing sim Sim-v0\n"
     ]
    },
    {
     "name": "stdout",
     "output_type": "stream",
     "text": [
      "large_episodes/1994/Lincolnwood_hard.txt  done\n"
     ]
    },
    {
     "data": {
      "application/vnd.jupyter.widget-view+json": {
       "model_id": "1798088246424333b973ca6927a2405a",
       "version_major": 2,
       "version_minor": 0
      },
      "text/plain": [
       "HBox(children=(IntProgress(value=0, max=50), HTML(value='')))"
      ]
     },
     "metadata": {},
     "output_type": "display_data"
    },
    {
     "name": "stderr",
     "output_type": "stream",
     "text": [
      "2020-10-27 17:54:06,742 initializing sim Sim-v0\n"
     ]
    },
    {
     "name": "stdout",
     "output_type": "stream",
     "text": [
      "large_episodes/1994/Grainola_hard.txt  done\n"
     ]
    },
    {
     "data": {
      "application/vnd.jupyter.widget-view+json": {
       "model_id": "aa9ffed2d3cd46a98631ae802cc2e95b",
       "version_major": 2,
       "version_minor": 0
      },
      "text/plain": [
       "HBox(children=(IntProgress(value=0, max=50), HTML(value='')))"
      ]
     },
     "metadata": {},
     "output_type": "display_data"
    },
    {
     "name": "stderr",
     "output_type": "stream",
     "text": [
      "2020-10-27 17:54:10,711 initializing sim Sim-v0\n"
     ]
    },
    {
     "name": "stdout",
     "output_type": "stream",
     "text": [
      "large_episodes/1994/Crugers_hard.txt  done\n"
     ]
    },
    {
     "data": {
      "application/vnd.jupyter.widget-view+json": {
       "model_id": "2942776133514d0b97bab1e41df26678",
       "version_major": 2,
       "version_minor": 0
      },
      "text/plain": [
       "HBox(children=(IntProgress(value=0, max=50), HTML(value='')))"
      ]
     },
     "metadata": {},
     "output_type": "display_data"
    },
    {
     "name": "stderr",
     "output_type": "stream",
     "text": [
      "2020-10-27 17:54:15,808 initializing sim Sim-v0\n"
     ]
    },
    {
     "name": "stdout",
     "output_type": "stream",
     "text": [
      "large_episodes/1994/Bushong_hard.txt  done\n"
     ]
    },
    {
     "data": {
      "application/vnd.jupyter.widget-view+json": {
       "model_id": "1586e75c41a04b96a4c5804921cb8f11",
       "version_major": 2,
       "version_minor": 0
      },
      "text/plain": [
       "HBox(children=(IntProgress(value=0, max=50), HTML(value='')))"
      ]
     },
     "metadata": {},
     "output_type": "display_data"
    },
    {
     "name": "stderr",
     "output_type": "stream",
     "text": [
      "2020-10-27 17:54:19,464 initializing sim Sim-v0\n"
     ]
    },
    {
     "name": "stdout",
     "output_type": "stream",
     "text": [
      "large_episodes/1994/Mogadore_hard.txt  done\n"
     ]
    },
    {
     "data": {
      "application/vnd.jupyter.widget-view+json": {
       "model_id": "adb8ea8b88f5402e8254101984320ca5",
       "version_major": 2,
       "version_minor": 0
      },
      "text/plain": [
       "HBox(children=(IntProgress(value=0, max=50), HTML(value='')))"
      ]
     },
     "metadata": {},
     "output_type": "display_data"
    },
    {
     "name": "stdout",
     "output_type": "stream",
     "text": [
      "large_episodes/1994/Bettendorf_hard.txt  done\n",
      "\n"
     ]
    },
    {
     "data": {
      "application/vnd.jupyter.widget-view+json": {
       "model_id": "5e64e9fa2321482fa12693d50a296ca7",
       "version_major": 2,
       "version_minor": 0
      },
      "text/plain": [
       "HBox(children=(IntProgress(value=0, max=14), HTML(value='')))"
      ]
     },
     "metadata": {},
     "output_type": "display_data"
    },
    {
     "name": "stderr",
     "output_type": "stream",
     "text": [
      "2020-10-27 17:54:22,778 initializing sim Sim-v0\n"
     ]
    },
    {
     "data": {
      "application/vnd.jupyter.widget-view+json": {
       "model_id": "0214aa27ff344003b25321951b9aa183",
       "version_major": 2,
       "version_minor": 0
      },
      "text/plain": [
       "HBox(children=(IntProgress(value=0, max=50), HTML(value='')))"
      ]
     },
     "metadata": {},
     "output_type": "display_data"
    },
    {
     "name": "stderr",
     "output_type": "stream",
     "text": [
      "2020-10-27 17:54:26,944 initializing sim Sim-v0\n"
     ]
    },
    {
     "name": "stdout",
     "output_type": "stream",
     "text": [
      "large_episodes/2020/Moonachie_hard.txt  done\n"
     ]
    },
    {
     "data": {
      "application/vnd.jupyter.widget-view+json": {
       "model_id": "06cf7cb3a7974d56a55f530188c8c086",
       "version_major": 2,
       "version_minor": 0
      },
      "text/plain": [
       "HBox(children=(IntProgress(value=0, max=50), HTML(value='')))"
      ]
     },
     "metadata": {},
     "output_type": "display_data"
    },
    {
     "name": "stderr",
     "output_type": "stream",
     "text": [
      "2020-10-27 17:54:30,437 initializing sim Sim-v0\n"
     ]
    },
    {
     "name": "stdout",
     "output_type": "stream",
     "text": [
      "large_episodes/2020/Moark_hard.txt  done\n"
     ]
    },
    {
     "data": {
      "application/vnd.jupyter.widget-view+json": {
       "model_id": "815dc53607b4468fb28c44ed80fc89c3",
       "version_major": 2,
       "version_minor": 0
      },
      "text/plain": [
       "HBox(children=(IntProgress(value=0, max=50), HTML(value='')))"
      ]
     },
     "metadata": {},
     "output_type": "display_data"
    },
    {
     "name": "stderr",
     "output_type": "stream",
     "text": [
      "2020-10-27 17:54:35,664 initializing sim Sim-v0\n"
     ]
    },
    {
     "name": "stdout",
     "output_type": "stream",
     "text": [
      "large_episodes/2020/Lacon_hard.txt  done\n"
     ]
    },
    {
     "data": {
      "application/vnd.jupyter.widget-view+json": {
       "model_id": "fc080ce1e65441c28e9e47e5f1491f13",
       "version_major": 2,
       "version_minor": 0
      },
      "text/plain": [
       "HBox(children=(IntProgress(value=0, max=50), HTML(value='')))"
      ]
     },
     "metadata": {},
     "output_type": "display_data"
    },
    {
     "name": "stderr",
     "output_type": "stream",
     "text": [
      "2020-10-27 17:54:39,049 initializing sim Sim-v0\n"
     ]
    },
    {
     "name": "stdout",
     "output_type": "stream",
     "text": [
      "large_episodes/2020/Sherrill_hard.txt  done\n"
     ]
    },
    {
     "data": {
      "application/vnd.jupyter.widget-view+json": {
       "model_id": "1745fa8da0f7434c8a64628653f89ff2",
       "version_major": 2,
       "version_minor": 0
      },
      "text/plain": [
       "HBox(children=(IntProgress(value=0, max=50), HTML(value='')))"
      ]
     },
     "metadata": {},
     "output_type": "display_data"
    },
    {
     "name": "stderr",
     "output_type": "stream",
     "text": [
      "2020-10-27 17:54:43,236 initializing sim Sim-v0\n"
     ]
    },
    {
     "name": "stdout",
     "output_type": "stream",
     "text": [
      "large_episodes/2020/Sargents_hard.txt  done\n"
     ]
    },
    {
     "data": {
      "application/vnd.jupyter.widget-view+json": {
       "model_id": "89ed5f274c014530ae8e8ad77412668e",
       "version_major": 2,
       "version_minor": 0
      },
      "text/plain": [
       "HBox(children=(IntProgress(value=0, max=50), HTML(value='')))"
      ]
     },
     "metadata": {},
     "output_type": "display_data"
    },
    {
     "name": "stderr",
     "output_type": "stream",
     "text": [
      "2020-10-27 17:54:48,401 initializing sim Sim-v0\n"
     ]
    },
    {
     "name": "stdout",
     "output_type": "stream",
     "text": [
      "large_episodes/2020/Chesaning_hard.txt  done\n"
     ]
    },
    {
     "data": {
      "application/vnd.jupyter.widget-view+json": {
       "model_id": "ebdd9518ce31477db514a091ee47357e",
       "version_major": 2,
       "version_minor": 0
      },
      "text/plain": [
       "HBox(children=(IntProgress(value=0, max=50), HTML(value='')))"
      ]
     },
     "metadata": {},
     "output_type": "display_data"
    },
    {
     "name": "stderr",
     "output_type": "stream",
     "text": [
      "2020-10-27 17:54:51,946 initializing sim Sim-v0\n"
     ]
    },
    {
     "name": "stdout",
     "output_type": "stream",
     "text": [
      "large_episodes/2020/Seatonville_hard.txt  done\n"
     ]
    },
    {
     "data": {
      "application/vnd.jupyter.widget-view+json": {
       "model_id": "998b70ceb8904258bf3c2e3b462b28b4",
       "version_major": 2,
       "version_minor": 0
      },
      "text/plain": [
       "HBox(children=(IntProgress(value=0, max=50), HTML(value='')))"
      ]
     },
     "metadata": {},
     "output_type": "display_data"
    },
    {
     "name": "stderr",
     "output_type": "stream",
     "text": [
      "2020-10-27 17:54:56,128 initializing sim Sim-v0\n"
     ]
    },
    {
     "name": "stdout",
     "output_type": "stream",
     "text": [
      "large_episodes/2020/Stigler_hard.txt  done\n"
     ]
    },
    {
     "data": {
      "application/vnd.jupyter.widget-view+json": {
       "model_id": "dff574c7502345acbd50315748ead1c7",
       "version_major": 2,
       "version_minor": 0
      },
      "text/plain": [
       "HBox(children=(IntProgress(value=0, max=50), HTML(value='')))"
      ]
     },
     "metadata": {},
     "output_type": "display_data"
    },
    {
     "name": "stderr",
     "output_type": "stream",
     "text": [
      "2020-10-27 17:55:03,400 initializing sim Sim-v0\n"
     ]
    },
    {
     "name": "stdout",
     "output_type": "stream",
     "text": [
      "large_episodes/2020/Lincolnwood_hard.txt  done\n"
     ]
    },
    {
     "data": {
      "application/vnd.jupyter.widget-view+json": {
       "model_id": "4ab8b21ebf5b4b69ada9f43deabcbd31",
       "version_major": 2,
       "version_minor": 0
      },
      "text/plain": [
       "HBox(children=(IntProgress(value=0, max=50), HTML(value='')))"
      ]
     },
     "metadata": {},
     "output_type": "display_data"
    },
    {
     "name": "stderr",
     "output_type": "stream",
     "text": [
      "2020-10-27 17:55:06,941 initializing sim Sim-v0\n"
     ]
    },
    {
     "name": "stdout",
     "output_type": "stream",
     "text": [
      "large_episodes/2020/Grainola_hard.txt  done\n"
     ]
    },
    {
     "data": {
      "application/vnd.jupyter.widget-view+json": {
       "model_id": "ca105c7b172f4f12b88149bb6dd4deb3",
       "version_major": 2,
       "version_minor": 0
      },
      "text/plain": [
       "HBox(children=(IntProgress(value=0, max=50), HTML(value='')))"
      ]
     },
     "metadata": {},
     "output_type": "display_data"
    },
    {
     "name": "stderr",
     "output_type": "stream",
     "text": [
      "2020-10-27 17:55:10,898 initializing sim Sim-v0\n"
     ]
    },
    {
     "name": "stdout",
     "output_type": "stream",
     "text": [
      "large_episodes/2020/Crugers_hard.txt  done\n"
     ]
    },
    {
     "data": {
      "application/vnd.jupyter.widget-view+json": {
       "model_id": "ff1391e26c404d05b021778b1dc035f1",
       "version_major": 2,
       "version_minor": 0
      },
      "text/plain": [
       "HBox(children=(IntProgress(value=0, max=50), HTML(value='')))"
      ]
     },
     "metadata": {},
     "output_type": "display_data"
    },
    {
     "name": "stderr",
     "output_type": "stream",
     "text": [
      "2020-10-27 17:55:16,327 initializing sim Sim-v0\n"
     ]
    },
    {
     "name": "stdout",
     "output_type": "stream",
     "text": [
      "large_episodes/2020/Bushong_hard.txt  done\n"
     ]
    },
    {
     "data": {
      "application/vnd.jupyter.widget-view+json": {
       "model_id": "f433ad84aed149079a010ce50ea99aaa",
       "version_major": 2,
       "version_minor": 0
      },
      "text/plain": [
       "HBox(children=(IntProgress(value=0, max=50), HTML(value='')))"
      ]
     },
     "metadata": {},
     "output_type": "display_data"
    },
    {
     "name": "stderr",
     "output_type": "stream",
     "text": [
      "2020-10-27 17:55:21,374 initializing sim Sim-v0\n"
     ]
    },
    {
     "name": "stdout",
     "output_type": "stream",
     "text": [
      "large_episodes/2020/Mogadore_hard.txt  done\n"
     ]
    },
    {
     "data": {
      "application/vnd.jupyter.widget-view+json": {
       "model_id": "35184881431a465e980afb951eb0cbe6",
       "version_major": 2,
       "version_minor": 0
      },
      "text/plain": [
       "HBox(children=(IntProgress(value=0, max=50), HTML(value='')))"
      ]
     },
     "metadata": {},
     "output_type": "display_data"
    },
    {
     "name": "stdout",
     "output_type": "stream",
     "text": [
      "large_episodes/2020/Bettendorf_hard.txt  done\n",
      "\n"
     ]
    },
    {
     "data": {
      "application/vnd.jupyter.widget-view+json": {
       "model_id": "5526acc1704e46a2b07e40940245039e",
       "version_major": 2,
       "version_minor": 0
      },
      "text/plain": [
       "HBox(children=(IntProgress(value=0, max=14), HTML(value='')))"
      ]
     },
     "metadata": {},
     "output_type": "display_data"
    },
    {
     "name": "stderr",
     "output_type": "stream",
     "text": [
      "2020-10-27 17:55:26,085 initializing sim Sim-v0\n"
     ]
    },
    {
     "data": {
      "application/vnd.jupyter.widget-view+json": {
       "model_id": "8d686f5ec9384bd989f1242a3c243761",
       "version_major": 2,
       "version_minor": 0
      },
      "text/plain": [
       "HBox(children=(IntProgress(value=0, max=50), HTML(value='')))"
      ]
     },
     "metadata": {},
     "output_type": "display_data"
    },
    {
     "name": "stderr",
     "output_type": "stream",
     "text": [
      "2020-10-27 17:55:32,043 initializing sim Sim-v0\n"
     ]
    },
    {
     "name": "stdout",
     "output_type": "stream",
     "text": [
      "large_episodes/8160/Moonachie_hard.txt  done\n"
     ]
    },
    {
     "data": {
      "application/vnd.jupyter.widget-view+json": {
       "model_id": "5ed06d18a84844628c0b18b341727f94",
       "version_major": 2,
       "version_minor": 0
      },
      "text/plain": [
       "HBox(children=(IntProgress(value=0, max=50), HTML(value='')))"
      ]
     },
     "metadata": {},
     "output_type": "display_data"
    },
    {
     "name": "stderr",
     "output_type": "stream",
     "text": [
      "2020-10-27 17:55:36,049 initializing sim Sim-v0\n"
     ]
    },
    {
     "name": "stdout",
     "output_type": "stream",
     "text": [
      "large_episodes/8160/Moark_hard.txt  done\n"
     ]
    },
    {
     "data": {
      "application/vnd.jupyter.widget-view+json": {
       "model_id": "c812ba0da1e34bf886c5aaba51a34c33",
       "version_major": 2,
       "version_minor": 0
      },
      "text/plain": [
       "HBox(children=(IntProgress(value=0, max=50), HTML(value='')))"
      ]
     },
     "metadata": {},
     "output_type": "display_data"
    },
    {
     "name": "stderr",
     "output_type": "stream",
     "text": [
      "2020-10-27 17:55:42,656 initializing sim Sim-v0\n"
     ]
    },
    {
     "name": "stdout",
     "output_type": "stream",
     "text": [
      "large_episodes/8160/Lacon_hard.txt  done\n"
     ]
    },
    {
     "data": {
      "application/vnd.jupyter.widget-view+json": {
       "model_id": "432e3dc7a7604a03b1e9cb06f9189c78",
       "version_major": 2,
       "version_minor": 0
      },
      "text/plain": [
       "HBox(children=(IntProgress(value=0, max=50), HTML(value='')))"
      ]
     },
     "metadata": {},
     "output_type": "display_data"
    },
    {
     "name": "stderr",
     "output_type": "stream",
     "text": [
      "2020-10-27 17:55:46,495 initializing sim Sim-v0\n"
     ]
    },
    {
     "name": "stdout",
     "output_type": "stream",
     "text": [
      "large_episodes/8160/Sherrill_hard.txt  done\n"
     ]
    },
    {
     "data": {
      "application/vnd.jupyter.widget-view+json": {
       "model_id": "154f414ab815495ea3d4292bdc891303",
       "version_major": 2,
       "version_minor": 0
      },
      "text/plain": [
       "HBox(children=(IntProgress(value=0, max=50), HTML(value='')))"
      ]
     },
     "metadata": {},
     "output_type": "display_data"
    },
    {
     "name": "stderr",
     "output_type": "stream",
     "text": [
      "2020-10-27 17:55:50,783 initializing sim Sim-v0\n"
     ]
    },
    {
     "name": "stdout",
     "output_type": "stream",
     "text": [
      "large_episodes/8160/Sargents_hard.txt  done\n"
     ]
    },
    {
     "data": {
      "application/vnd.jupyter.widget-view+json": {
       "model_id": "bcb1af3dd3444dca915c27f640f72733",
       "version_major": 2,
       "version_minor": 0
      },
      "text/plain": [
       "HBox(children=(IntProgress(value=0, max=50), HTML(value='')))"
      ]
     },
     "metadata": {},
     "output_type": "display_data"
    },
    {
     "name": "stderr",
     "output_type": "stream",
     "text": [
      "2020-10-27 17:55:56,132 initializing sim Sim-v0\n"
     ]
    },
    {
     "name": "stdout",
     "output_type": "stream",
     "text": [
      "large_episodes/8160/Chesaning_hard.txt  done\n"
     ]
    },
    {
     "data": {
      "application/vnd.jupyter.widget-view+json": {
       "model_id": "cd83886208e344e2acc68bdae0aba6d5",
       "version_major": 2,
       "version_minor": 0
      },
      "text/plain": [
       "HBox(children=(IntProgress(value=0, max=50), HTML(value='')))"
      ]
     },
     "metadata": {},
     "output_type": "display_data"
    },
    {
     "name": "stderr",
     "output_type": "stream",
     "text": [
      "2020-10-27 17:55:59,602 initializing sim Sim-v0\n"
     ]
    },
    {
     "name": "stdout",
     "output_type": "stream",
     "text": [
      "large_episodes/8160/Seatonville_hard.txt  done\n"
     ]
    },
    {
     "data": {
      "application/vnd.jupyter.widget-view+json": {
       "model_id": "21344dd69d234d718a9f75c0ca50167c",
       "version_major": 2,
       "version_minor": 0
      },
      "text/plain": [
       "HBox(children=(IntProgress(value=0, max=50), HTML(value='')))"
      ]
     },
     "metadata": {},
     "output_type": "display_data"
    },
    {
     "name": "stderr",
     "output_type": "stream",
     "text": [
      "2020-10-27 17:56:03,778 initializing sim Sim-v0\n"
     ]
    },
    {
     "name": "stdout",
     "output_type": "stream",
     "text": [
      "large_episodes/8160/Stigler_hard.txt  done\n"
     ]
    },
    {
     "data": {
      "application/vnd.jupyter.widget-view+json": {
       "model_id": "636cca519b984ed3bf09e11b2f415d33",
       "version_major": 2,
       "version_minor": 0
      },
      "text/plain": [
       "HBox(children=(IntProgress(value=0, max=50), HTML(value='')))"
      ]
     },
     "metadata": {},
     "output_type": "display_data"
    },
    {
     "name": "stderr",
     "output_type": "stream",
     "text": [
      "2020-10-27 17:56:11,075 initializing sim Sim-v0\n"
     ]
    },
    {
     "name": "stdout",
     "output_type": "stream",
     "text": [
      "large_episodes/8160/Lincolnwood_hard.txt  done\n"
     ]
    },
    {
     "data": {
      "application/vnd.jupyter.widget-view+json": {
       "model_id": "da1573e64ad94bbcbbc7dda5cc22bd92",
       "version_major": 2,
       "version_minor": 0
      },
      "text/plain": [
       "HBox(children=(IntProgress(value=0, max=50), HTML(value='')))"
      ]
     },
     "metadata": {},
     "output_type": "display_data"
    },
    {
     "name": "stderr",
     "output_type": "stream",
     "text": [
      "2020-10-27 17:56:14,434 initializing sim Sim-v0\n"
     ]
    },
    {
     "name": "stdout",
     "output_type": "stream",
     "text": [
      "large_episodes/8160/Grainola_hard.txt  done\n"
     ]
    },
    {
     "data": {
      "application/vnd.jupyter.widget-view+json": {
       "model_id": "9ca405f31d9a441282f297f5ae29f3b3",
       "version_major": 2,
       "version_minor": 0
      },
      "text/plain": [
       "HBox(children=(IntProgress(value=0, max=50), HTML(value='')))"
      ]
     },
     "metadata": {},
     "output_type": "display_data"
    },
    {
     "name": "stderr",
     "output_type": "stream",
     "text": [
      "2020-10-27 17:56:18,329 initializing sim Sim-v0\n"
     ]
    },
    {
     "name": "stdout",
     "output_type": "stream",
     "text": [
      "large_episodes/8160/Crugers_hard.txt  done\n"
     ]
    },
    {
     "data": {
      "application/vnd.jupyter.widget-view+json": {
       "model_id": "1e7598baebaf410596a1a8869422fd6f",
       "version_major": 2,
       "version_minor": 0
      },
      "text/plain": [
       "HBox(children=(IntProgress(value=0, max=50), HTML(value='')))"
      ]
     },
     "metadata": {},
     "output_type": "display_data"
    },
    {
     "name": "stderr",
     "output_type": "stream",
     "text": [
      "2020-10-27 17:56:22,973 initializing sim Sim-v0\n"
     ]
    },
    {
     "name": "stdout",
     "output_type": "stream",
     "text": [
      "large_episodes/8160/Bushong_hard.txt  done\n"
     ]
    },
    {
     "data": {
      "application/vnd.jupyter.widget-view+json": {
       "model_id": "aa89c6f8cdea4e9a97a42ad3c11c7857",
       "version_major": 2,
       "version_minor": 0
      },
      "text/plain": [
       "HBox(children=(IntProgress(value=0, max=50), HTML(value='')))"
      ]
     },
     "metadata": {},
     "output_type": "display_data"
    },
    {
     "name": "stderr",
     "output_type": "stream",
     "text": [
      "2020-10-27 17:56:27,010 initializing sim Sim-v0\n"
     ]
    },
    {
     "name": "stdout",
     "output_type": "stream",
     "text": [
      "large_episodes/8160/Mogadore_hard.txt  done\n"
     ]
    },
    {
     "data": {
      "application/vnd.jupyter.widget-view+json": {
       "model_id": "624278c30c084928974759450d741772",
       "version_major": 2,
       "version_minor": 0
      },
      "text/plain": [
       "HBox(children=(IntProgress(value=0, max=50), HTML(value='')))"
      ]
     },
     "metadata": {},
     "output_type": "display_data"
    },
    {
     "name": "stdout",
     "output_type": "stream",
     "text": [
      "large_episodes/8160/Bettendorf_hard.txt  done\n",
      "\n"
     ]
    }
   ],
   "source": [
    "\n",
    "for seed in [1121,1110,1994,2020,8160]:\n",
    "    np.random.seed(seed)\n",
    "    habitat_api_path = os.path.join(os.path.dirname(habitat.__file__), '../')\n",
    "    config = get_config('../IL_configs/vistargetnav_gibson.yaml')\n",
    "    with tqdm(total=len(metadata)) as pbar:\n",
    "        for house, house_m in metadata.items():\n",
    "            config.defrost()\n",
    "            config.SIMULATOR.SCENE = os.path.join(habitat_api_path, 'data/scene_datasets/gibson_more/{}.glb'.format(house))\n",
    "            config.SIMULATOR.SEED = seed\n",
    "            config.freeze()\n",
    "            sim = make_sim(id_sim=config.SIMULATOR.TYPE, config=config.SIMULATOR)\n",
    "            sim.seed(seed)\n",
    "            for difficulty in ['hard']:\n",
    "                if difficulty == 'easy':\n",
    "                    min_dist, max_dist = 1.5, 3.0\n",
    "                elif difficulty == 'medium':\n",
    "                    min_dist, max_dist = 3.0, 5.0\n",
    "                elif difficulty == 'hard':\n",
    "                    min_dist, max_dist = 10.0, 50.0\n",
    "                episodes = []\n",
    "                for ep_id in tqdm(range(50)):\n",
    "                    while True:\n",
    "                        start_position = sim.sample_navigable_point()\n",
    "                        random_angle = np.random.rand() * 2 * np.pi\n",
    "                        start_rotation = q.from_rotation_vector([0, random_angle, 0])\n",
    "                        try_num = 0\n",
    "                        success = False\n",
    "                        while True:\n",
    "                            if min_dist < 5.0:\n",
    "                                random_dist = min_dist + np.random.rand() * (max_dist - min_dist)\n",
    "                                random_angle = np.random.rand() * 2 * np.pi\n",
    "                                goal_position = [start_position[0] + random_dist * np.cos(random_angle),\n",
    "                                                 start_position[1],\n",
    "                                                 start_position[2] + random_dist * np.sin(random_angle)]\n",
    "                            else:\n",
    "                                goal_position = sim.sample_navigable_point()\n",
    "                            geo_dist = sim.geodesic_distance(start_position, goal_position)\n",
    "                            valid_dist = (geo_dist < max_dist) * (geo_dist > min_dist)\n",
    "                            height_diff = abs(goal_position[1] - start_position[1]) < 0.5\n",
    "                            valid_dist = valid_dist and height_diff\n",
    "                            #if valid_dist:\n",
    "                            #    print(geo_dist, valid_dist)\n",
    "\n",
    "\n",
    "#                             map_resolution = [1250,1250]\n",
    "#                             COORDINATE_EPSILON = 1e-6\n",
    "#                             COORDINATE_MIN = -62.3241 - COORDINATE_EPSILON\n",
    "#                             COORDINATE_MAX = 90.0399 + COORDINATE_EPSILON\n",
    "#                             top_down_map = np.zeros(map_resolution, dtype=np.uint8)\n",
    "#                             border_padding = 3\n",
    "\n",
    "#                             start_height = start_position[1]\n",
    "\n",
    "#                             # Use sampling to find the extrema points that might be navigable.\n",
    "#                             range_x = (map_resolution[0], 0)\n",
    "#                             range_y = (map_resolution[1], 0)\n",
    "#                             for _ in range(1000):\n",
    "#                                 point = sim.sample_navigable_point()\n",
    "#                                 # Check if on same level as original\n",
    "#                                 if np.abs(start_height - point[1]) > 0.5: continue\n",
    "#                                 g_x, g_y = maps.to_grid(\n",
    "#                                     point[0], point[2], COORDINATE_MIN, COORDINATE_MAX, map_resolution\n",
    "#                                 )\n",
    "#                                 range_x = (min(range_x[0], g_x), max(range_x[1], g_x))\n",
    "#                                 range_y = (min(range_y[0], g_y), max(range_y[1], g_y))\n",
    "\n",
    "#                             # Pad the range just in case not enough points were sampled to get the true\n",
    "#                             # extrema.\n",
    "\n",
    "#                             padding = int(np.ceil(map_resolution[0] / 125))\n",
    "#                             range_x = (\n",
    "#                                 max(range_x[0] - padding, 0),\n",
    "#                                 min(range_x[-1] + padding + 1, top_down_map.shape[0]),\n",
    "#                             )\n",
    "#                             range_y = (\n",
    "#                                 max(range_y[0] - padding, 0),\n",
    "#                                 min(range_y[-1] + padding + 1, top_down_map.shape[1]),\n",
    "#                             )\n",
    "\n",
    "#                             # Search over grid for valid points.\n",
    "#                             for ii in range(range_x[0], range_x[1]):\n",
    "#                                 for jj in range(range_y[0], range_y[1]):\n",
    "#                                     realworld_x, realworld_y = maps.from_grid(\n",
    "#                                         ii, jj, COORDINATE_MIN, COORDINATE_MAX, map_resolution\n",
    "#                                     )\n",
    "#                                     valid_point = sim.is_navigable(\n",
    "#                                         [realworld_x, start_height, realworld_y]\n",
    "#                                     )\n",
    "#                                     top_down_map[ii, jj] = (\n",
    "#                                         1 if valid_point else 0\n",
    "#                                     )\n",
    "\n",
    "#                             range_x = np.where(np.any(top_down_map, axis=1))[0]\n",
    "#                             range_y = np.where(np.any(top_down_map, axis=0))[0]\n",
    "#                             if len(range_x) > 0 and len(range_y) > 0:\n",
    "#                                 range_x = (\n",
    "#                                     max(range_x[0] - border_padding, 0),\n",
    "#                                     min(range_x[-1] + border_padding + 1, top_down_map.shape[0]),\n",
    "#                                 )\n",
    "#                                 range_y = (\n",
    "#                                     max(range_y[0] - border_padding, 0),\n",
    "#                                     min(range_y[-1] + border_padding + 1, top_down_map.shape[1]),\n",
    "#                                 )\n",
    "\n",
    "#                                 maps._outline_border(\n",
    "#                                     top_down_map[range_x[0]: range_x[1], range_y[0]: range_y[1]]\n",
    "#                                 )\n",
    "\n",
    "#                                 range_x = np.where(np.any(top_down_map, axis=1))[0]\n",
    "#                                 range_y = np.where(np.any(top_down_map, axis=0))[0]\n",
    "#                                 valid_region = len(range_x) > 10 and len(range_y) > 10\n",
    "#                             else:\n",
    "#                                 valid_region = False\n",
    "\n",
    "                            if sim.is_navigable(goal_position) and valid_dist:# and valid_region:\n",
    "                                start_rotation = start_rotation.components\n",
    "                                goal_info = [ep_id, start_position[0], start_position[1], start_position[2],\n",
    "                                             start_rotation[0],start_rotation[1],start_rotation[2],start_rotation[3],\n",
    "                                             goal_position[0],goal_position[1],goal_position[2], geo_dist]\n",
    "                                goal_str = ''\n",
    "                                for e in goal_info:\n",
    "                                    goal_str += '%.3f '%(e)\n",
    "                                episodes.append(goal_str)\n",
    "                                success = True\n",
    "                                break\n",
    "                            else:\n",
    "                                try_num += 1\n",
    "                            if try_num > 200: break\n",
    "                        if success: break\n",
    "                if not os.path.exists('large_episodes/{}'.format(seed)):\n",
    "                    os.mkdir('large_episodes/{}'.format(seed))\n",
    "                with open('large_episodes/{}/{}_{}.txt'.format(seed, house, difficulty), 'w') as f:\n",
    "                    for ep in episodes:\n",
    "                        f.write(ep + '\\n')\n",
    "                print('large_episodes/{}/{}_{}.txt'.format(seed, house, difficulty), ' done')\n",
    "            sim.close()\n",
    "            pbar.update(1)\n",
    "\n",
    "\n",
    "\n",
    "\n",
    "\n"
   ]
  },
  {
   "cell_type": "code",
   "execution_count": 5,
   "metadata": {},
   "outputs": [],
   "source": [
    "sim.close()"
   ]
  }
 ],
 "metadata": {
  "kernelspec": {
   "display_name": "visual_navi",
   "language": "python",
   "name": "visual_navi"
  },
  "language_info": {
   "codemirror_mode": {
    "name": "ipython",
    "version": 3
   },
   "file_extension": ".py",
   "mimetype": "text/x-python",
   "name": "python",
   "nbconvert_exporter": "python",
   "pygments_lexer": "ipython3",
   "version": "3.6.8"
  }
 },
 "nbformat": 4,
 "nbformat_minor": 4
}
